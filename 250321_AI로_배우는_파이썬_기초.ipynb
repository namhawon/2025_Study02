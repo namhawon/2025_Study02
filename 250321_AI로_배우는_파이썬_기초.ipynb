{
  "nbformat": 4,
  "nbformat_minor": 0,
  "metadata": {
    "colab": {
      "provenance": [],
      "authorship_tag": "ABX9TyPt29u8fydWzF0ruUBOa9By",
      "include_colab_link": true
    },
    "kernelspec": {
      "name": "python3",
      "display_name": "Python 3"
    },
    "language_info": {
      "name": "python"
    }
  },
  "cells": [
    {
      "cell_type": "markdown",
      "metadata": {
        "id": "view-in-github",
        "colab_type": "text"
      },
      "source": [
        "<a href=\"https://colab.research.google.com/github/namhawon/2025_Study02/blob/main/250321_AI%EB%A1%9C_%EB%B0%B0%EC%9A%B0%EB%8A%94_%ED%8C%8C%EC%9D%B4%EC%8D%AC_%EA%B8%B0%EC%B4%88.ipynb\" target=\"_parent\"><img src=\"https://colab.research.google.com/assets/colab-badge.svg\" alt=\"Open In Colab\"/></a>"
      ]
    },
    {
      "cell_type": "markdown",
      "source": [
        "# **입력과 출력(input, print)**\n",
        "\n",
        "파이썬은 사람과 대화할 수 있어요.\n",
        "- 출력은 파이썬이 말을 하는 것\n",
        "- 입력은 여러분의 말을 듣는 것\n",
        "\n"
      ],
      "metadata": {
        "id": "ztTDUIATa13N"
      }
    },
    {
      "cell_type": "code",
      "execution_count": 15,
      "metadata": {
        "colab": {
          "base_uri": "https://localhost:8080/"
        },
        "id": "fPseI-vRTrWV",
        "outputId": "73a44a4a-3f24-4585-c151-79e78be82f17"
      },
      "outputs": [
        {
          "output_type": "stream",
          "name": "stdout",
          "text": [
            "나이를 입력하세요.10\n",
            "당신은 내년에 11 살 입니다.\n"
          ]
        }
      ],
      "source": [
        "age = input(\"나이를 입력하세요.\")\n",
        "age = int(age)                              # 정수 (소수전 X)\n",
        "print(\"당신은 내년에\", age+1, \"살 입니다.\")"
      ]
    },
    {
      "cell_type": "code",
      "source": [
        "age = input(\"나이를 입력하세요.\")\n",
        "age = int(age)\n",
        "age = age+1\n",
        "print(\"당신은 내년에\" , age, \"살 입니다\")"
      ],
      "metadata": {
        "colab": {
          "base_uri": "https://localhost:8080/"
        },
        "id": "l-aNk7S7UANx",
        "outputId": "5b744ead-4d7d-41d5-8eee-fdcf25be970d"
      },
      "execution_count": 16,
      "outputs": [
        {
          "output_type": "stream",
          "name": "stdout",
          "text": [
            "나이를 입력하세요.10\n",
            "당신은 내년에 11 살 입니다\n"
          ]
        }
      ]
    },
    {
      "cell_type": "code",
      "source": [
        "age=int(input(\"나이를 입력하세요.\"))\n",
        "print(\"당신은 내년에\", age+1, \"살 입니다.\")"
      ],
      "metadata": {
        "colab": {
          "base_uri": "https://localhost:8080/"
        },
        "id": "NMVl8UVEU_2A",
        "outputId": "d360abc6-9096-4f3f-8838-9f8b9ab2fed1"
      },
      "execution_count": 17,
      "outputs": [
        {
          "output_type": "stream",
          "name": "stdout",
          "text": [
            "나이를 입력하세요.10\n",
            "당신은 내년에 11 살 입니다.\n"
          ]
        }
      ]
    },
    {
      "cell_type": "code",
      "source": [
        "age=float(input(\"나이를 입력하세요.\"))\n",
        "print(\"당신은 내년에\", age+1, \"살 입니다.\")   # 실수(소수점 O)"
      ],
      "metadata": {
        "colab": {
          "base_uri": "https://localhost:8080/"
        },
        "id": "TSFfz6FHUPXd",
        "outputId": "376c15b8-d833-4791-e847-d5a91648ef26"
      },
      "execution_count": 18,
      "outputs": [
        {
          "output_type": "stream",
          "name": "stdout",
          "text": [
            "나이를 입력하세요.10\n",
            "당신은 내년에 11.0 살 입니다.\n"
          ]
        }
      ]
    },
    {
      "cell_type": "code",
      "source": [
        "age = int(input(\"나이를 입력하세요.\"))\n",
        "# print(age + \"살 입니다\") -> 쉼표가 아닌 '더하기'는 'age'를 숫자형으로 인식하여 연산하게 된다.(오류 발생)\n",
        "print(str(age) + \"살 입니다\") # age를 문자형으로 인식하게 된다."
      ],
      "metadata": {
        "colab": {
          "base_uri": "https://localhost:8080/"
        },
        "id": "JA-MwBgyVZvV",
        "outputId": "58b90b3f-f8e3-40dd-c301-b76b4a4da12f"
      },
      "execution_count": 19,
      "outputs": [
        {
          "output_type": "stream",
          "name": "stdout",
          "text": [
            "나이를 입력하세요.10\n",
            "10살입니다\n"
          ]
        }
      ]
    },
    {
      "cell_type": "markdown",
      "source": [
        "# **조건문(if, elif, else)**\n",
        "\n",
        "조건에 따라 다르게 행동하도록 하는 문법이에요."
      ],
      "metadata": {
        "id": "WnR4GQMaXLG3"
      }
    },
    {
      "cell_type": "code",
      "source": [
        "score = 78\n",
        "\n",
        "if score >= 90:\n",
        "  print(\"정말 잘했어요.\")\n",
        "elif score >= 60:\n",
        "  print(\"좋아요. 합격입니다!\")\n",
        "else:\n",
        "  print(\"다음에 더 잘해봐요!\")               # 조건문에 대한 순서가 있다"
      ],
      "metadata": {
        "colab": {
          "base_uri": "https://localhost:8080/"
        },
        "id": "8qiEdTRbWLGd",
        "outputId": "f0c6268b-171c-4db6-9aff-413e28feb93b"
      },
      "execution_count": 27,
      "outputs": [
        {
          "output_type": "stream",
          "name": "stdout",
          "text": [
            "좋아요. 합격입니다!\n"
          ]
        }
      ]
    },
    {
      "cell_type": "markdown",
      "source": [
        "**문제 1** 입력한 숫자의 양수/음수 유무를 판단하세요"
      ],
      "metadata": {
        "id": "-s80mfjSZ-5d"
      }
    },
    {
      "cell_type": "code",
      "source": [
        "num = int(input(\"숫자를 입력하세요.\"))\n",
        "\n",
        "if num > 0:\n",
        "  print(\"양수\")\n",
        "elif num < 0:\n",
        "  print(\"음수\")\n",
        "else:\n",
        "  print(\"0\")                                 # 조건문에 대한 순서가 없다"
      ],
      "metadata": {
        "colab": {
          "base_uri": "https://localhost:8080/"
        },
        "id": "NbmD4XaaZ9DE",
        "outputId": "93d9e2ab-7a9b-41e4-fa3d-3d85091f684d"
      },
      "execution_count": 29,
      "outputs": [
        {
          "output_type": "stream",
          "name": "stdout",
          "text": [
            "숫자를 입력하세요.-8\n",
            "음수\n"
          ]
        }
      ]
    },
    {
      "cell_type": "markdown",
      "source": [
        "오류\n",
        "- 문법 오류\n",
        "- 논리 오류\n",
        "\n",
        "테스트\n",
        "- 알파 테스트\n",
        "- 베타 테스트"
      ],
      "metadata": {
        "id": "EkQJriePbX8C"
      }
    },
    {
      "cell_type": "markdown",
      "source": [
        "**문제 2**  (개발자에게) 마트에 가서 사과를 3개 사오고 만약에 수박 있으면 하나 사오세요"
      ],
      "metadata": {
        "id": "dl58rTSpb2Kb"
      }
    },
    {
      "cell_type": "code",
      "source": [
        "answer = input(\"마트에 수박이 있나요? (네/아니오): \").strip()\n",
        "\n",
        "if answer == \"네\":\n",
        "    print(\"사과를 1개 사야겠다.\")\n",
        "elif answer == \"아니오\":\n",
        "    print(\"사과를 3개 사야겠다.\")\n",
        "else:\n",
        "    print(\"잘못된 입력입니다. '네' 또는 '아니오'로 입력해주세요.\")\n"
      ],
      "metadata": {
        "colab": {
          "base_uri": "https://localhost:8080/"
        },
        "id": "nz2pz8BCbz8C",
        "outputId": "86f8cb95-df6d-4a91-dcfd-f88a9c80967b"
      },
      "execution_count": 47,
      "outputs": [
        {
          "output_type": "stream",
          "name": "stdout",
          "text": [
            "마트에 수박이 있나요? (네/아니오): 네\n",
            "사과를 1개 사야겠다.\n"
          ]
        }
      ]
    },
    {
      "cell_type": "markdown",
      "source": [
        "**문제 3** 입력한 숫자의 짝수/홀수를 판단하세요"
      ],
      "metadata": {
        "id": "kb3-7jmvcvnB"
      }
    },
    {
      "cell_type": "code",
      "source": [
        "num = int(input(\"숫자를 입력하세요: \"))\n",
        "\n",
        "if (num % 2) == 0:                          # 괄호를 사용하여 연산의 우선순위를 알려줄 수 있다\n",
        "    print(\"짝수\")\n",
        "else:\n",
        "    print(\"홀수\")"
      ],
      "metadata": {
        "colab": {
          "base_uri": "https://localhost:8080/"
        },
        "id": "08oC37L1c6HX",
        "outputId": "2aaec461-7ee0-45cf-f229-1486a3954093"
      },
      "execution_count": 41,
      "outputs": [
        {
          "output_type": "stream",
          "name": "stdout",
          "text": [
            "숫자를 입력하세요: 8\n",
            "짝수\n"
          ]
        }
      ]
    }
  ]
}