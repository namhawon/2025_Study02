{
  "nbformat": 4,
  "nbformat_minor": 0,
  "metadata": {
    "colab": {
      "provenance": [],
      "authorship_tag": "ABX9TyOJ7qVbdbxPNOSRtW8q5+Sw",
      "include_colab_link": true
    },
    "kernelspec": {
      "name": "python3",
      "display_name": "Python 3"
    },
    "language_info": {
      "name": "python"
    }
  },
  "cells": [
    {
      "cell_type": "markdown",
      "metadata": {
        "id": "view-in-github",
        "colab_type": "text"
      },
      "source": [
        "<a href=\"https://colab.research.google.com/github/namhawon/2025_Study02/blob/main/250321_AI%EB%A1%9C_%EB%B0%B0%EC%9A%B0%EB%8A%94_%ED%8C%8C%EC%9D%B4%EC%8D%AC_%EA%B8%B0%EC%B4%88.ipynb\" target=\"_parent\"><img src=\"https://colab.research.google.com/assets/colab-badge.svg\" alt=\"Open In Colab\"/></a>"
      ]
    },
    {
      "cell_type": "markdown",
      "source": [
        "# **입력과 출력(input, print)**\n",
        "\n",
        "파이썬은 사람과 대화할 수 있어요.\n",
        "- 출력은 파이썬이 말을 하는 것\n",
        "- 입력은 여러분의 말을 듣는 것\n",
        "\n"
      ],
      "metadata": {
        "id": "ztTDUIATa13N"
      }
    },
    {
      "cell_type": "code",
      "execution_count": 15,
      "metadata": {
        "colab": {
          "base_uri": "https://localhost:8080/"
        },
        "id": "fPseI-vRTrWV",
        "outputId": "73a44a4a-3f24-4585-c151-79e78be82f17"
      },
      "outputs": [
        {
          "output_type": "stream",
          "name": "stdout",
          "text": [
            "나이를 입력하세요.10\n",
            "당신은 내년에 11 살 입니다.\n"
          ]
        }
      ],
      "source": [
        "age = input(\"나이를 입력하세요.\")\n",
        "age = int(age)                              # 정수 (소수전 X)\n",
        "print(\"당신은 내년에\", age+1, \"살 입니다.\")"
      ]
    },
    {
      "cell_type": "code",
      "source": [
        "age = input(\"나이를 입력하세요.\")\n",
        "age = int(age)\n",
        "age = age+1\n",
        "print(\"당신은 내년에\" , age, \"살 입니다\")"
      ],
      "metadata": {
        "colab": {
          "base_uri": "https://localhost:8080/"
        },
        "id": "l-aNk7S7UANx",
        "outputId": "5b744ead-4d7d-41d5-8eee-fdcf25be970d"
      },
      "execution_count": 16,
      "outputs": [
        {
          "output_type": "stream",
          "name": "stdout",
          "text": [
            "나이를 입력하세요.10\n",
            "당신은 내년에 11 살 입니다\n"
          ]
        }
      ]
    },
    {
      "cell_type": "code",
      "source": [
        "age=int(input(\"나이를 입력하세요.\"))\n",
        "print(\"당신은 내년에\", age+1, \"살 입니다.\")"
      ],
      "metadata": {
        "colab": {
          "base_uri": "https://localhost:8080/"
        },
        "id": "NMVl8UVEU_2A",
        "outputId": "d360abc6-9096-4f3f-8838-9f8b9ab2fed1"
      },
      "execution_count": 17,
      "outputs": [
        {
          "output_type": "stream",
          "name": "stdout",
          "text": [
            "나이를 입력하세요.10\n",
            "당신은 내년에 11 살 입니다.\n"
          ]
        }
      ]
    },
    {
      "cell_type": "code",
      "source": [
        "age=float(input(\"나이를 입력하세요.\"))\n",
        "print(\"당신은 내년에\", age+1, \"살 입니다.\")   # 실수(소수점 O)"
      ],
      "metadata": {
        "colab": {
          "base_uri": "https://localhost:8080/"
        },
        "id": "TSFfz6FHUPXd",
        "outputId": "376c15b8-d833-4791-e847-d5a91648ef26"
      },
      "execution_count": 18,
      "outputs": [
        {
          "output_type": "stream",
          "name": "stdout",
          "text": [
            "나이를 입력하세요.10\n",
            "당신은 내년에 11.0 살 입니다.\n"
          ]
        }
      ]
    },
    {
      "cell_type": "code",
      "source": [
        "age = int(input(\"나이를 입력하세요.\"))\n",
        "# print(age + \"살 입니다\") -> 쉼표가 아닌 '더하기'는 'age'를 숫자형으로 인식하여 연산하게 된다.(오류 발생)\n",
        "print(str(age) + \"살 입니다\") # age를 문자형으로 인식하게 된다."
      ],
      "metadata": {
        "colab": {
          "base_uri": "https://localhost:8080/"
        },
        "id": "JA-MwBgyVZvV",
        "outputId": "58b90b3f-f8e3-40dd-c301-b76b4a4da12f"
      },
      "execution_count": 19,
      "outputs": [
        {
          "output_type": "stream",
          "name": "stdout",
          "text": [
            "나이를 입력하세요.10\n",
            "10살입니다\n"
          ]
        }
      ]
    },
    {
      "cell_type": "markdown",
      "source": [
        "# **조건문(if, elif, else)**\n",
        "\n",
        "조건에 따라 다르게 행동하도록 하는 문법이에요."
      ],
      "metadata": {
        "id": "WnR4GQMaXLG3"
      }
    },
    {
      "cell_type": "code",
      "source": [
        "score = 78\n",
        "\n",
        "if score >= 90:\n",
        "  print(\"정말 잘했어요.\")\n",
        "elif score >= 60:\n",
        "  print(\"좋아요. 합격입니다!\")\n",
        "else:\n",
        "  print(\"다음에 더 잘해봐요!\")               # 조건문에 대한 순서가 있다"
      ],
      "metadata": {
        "colab": {
          "base_uri": "https://localhost:8080/"
        },
        "id": "8qiEdTRbWLGd",
        "outputId": "f0c6268b-171c-4db6-9aff-413e28feb93b"
      },
      "execution_count": 27,
      "outputs": [
        {
          "output_type": "stream",
          "name": "stdout",
          "text": [
            "좋아요. 합격입니다!\n"
          ]
        }
      ]
    },
    {
      "cell_type": "markdown",
      "source": [
        "**문제 1** 입력한 숫자의 양수/음수 유무를 판단하세요"
      ],
      "metadata": {
        "id": "-s80mfjSZ-5d"
      }
    },
    {
      "cell_type": "code",
      "source": [
        "num = int(input(\"숫자를 입력하세요.\"))\n",
        "\n",
        "if num > 0:\n",
        "  print(\"양수\")\n",
        "elif num < 0:\n",
        "  print(\"음수\")\n",
        "else:\n",
        "  print(\"0\")                                 # 조건문에 대한 순서가 없다"
      ],
      "metadata": {
        "colab": {
          "base_uri": "https://localhost:8080/"
        },
        "id": "NbmD4XaaZ9DE",
        "outputId": "93d9e2ab-7a9b-41e4-fa3d-3d85091f684d"
      },
      "execution_count": 29,
      "outputs": [
        {
          "output_type": "stream",
          "name": "stdout",
          "text": [
            "숫자를 입력하세요.-8\n",
            "음수\n"
          ]
        }
      ]
    },
    {
      "cell_type": "markdown",
      "source": [
        "오류\n",
        "- 문법 오류\n",
        "- 논리 오류\n",
        "\n",
        "테스트\n",
        "- 알파 테스트\n",
        "- 베타 테스트"
      ],
      "metadata": {
        "id": "EkQJriePbX8C"
      }
    },
    {
      "cell_type": "markdown",
      "source": [
        "**문제 2**  (개발자에게) 마트에 가서 사과를 3개 사오고 만약에 수박 있으면 하나 사오세요"
      ],
      "metadata": {
        "id": "dl58rTSpb2Kb"
      }
    },
    {
      "cell_type": "code",
      "source": [
        "watermelon = int(input(\"마트에 수박이 몇 개 있나요? \"))\n",
        "\n",
        "if watermelon > 0:\n",
        "    print(\"사과를 1개 사야겠다.\")\n",
        "elif watermelon == 0:\n",
        "    print(\"사과를 3개 사야겠다.\")"
      ],
      "metadata": {
        "colab": {
          "base_uri": "https://localhost:8080/"
        },
        "id": "zDJtqYh8jVy4",
        "outputId": "d931d427-0076-4a9e-fbea-3c8528c5d5af"
      },
      "execution_count": 48,
      "outputs": [
        {
          "output_type": "stream",
          "name": "stdout",
          "text": [
            "마트에 수박이 몇 개 있나요? 4\n",
            "사과를 1개 사야겠다.\n"
          ]
        }
      ]
    },
    {
      "cell_type": "code",
      "source": [
        "answer = input(\"마트에 수박이 있나요? (네/아니오): \").strip()\n",
        "\n",
        "if answer == \"네\":\n",
        "    print(\"사과를 1개 사야겠다.\")\n",
        "elif answer == \"아니오\":\n",
        "    print(\"사과를 3개 사야겠다.\")\n",
        "else:\n",
        "    print(\"잘못된 입력입니다. '네' 또는 '아니오'로 입력해주세요.\")\n"
      ],
      "metadata": {
        "colab": {
          "base_uri": "https://localhost:8080/"
        },
        "id": "nz2pz8BCbz8C",
        "outputId": "86f8cb95-df6d-4a91-dcfd-f88a9c80967b"
      },
      "execution_count": 47,
      "outputs": [
        {
          "output_type": "stream",
          "name": "stdout",
          "text": [
            "마트에 수박이 있나요? (네/아니오): 네\n",
            "사과를 1개 사야겠다.\n"
          ]
        }
      ]
    },
    {
      "cell_type": "markdown",
      "source": [
        "**문제 3** 입력한 숫자의 짝수/홀수를 판단하세요"
      ],
      "metadata": {
        "id": "kb3-7jmvcvnB"
      }
    },
    {
      "cell_type": "code",
      "source": [
        "num = int(input(\"숫자를 입력하세요: \"))\n",
        "\n",
        "if (num % 2) == 0:                          # 괄호를 사용하여 연산의 우선순위를 알려줄 수 있다\n",
        "    print(\"짝수\")\n",
        "else:\n",
        "    print(\"홀수\")"
      ],
      "metadata": {
        "colab": {
          "base_uri": "https://localhost:8080/"
        },
        "id": "08oC37L1c6HX",
        "outputId": "2aaec461-7ee0-45cf-f229-1486a3954093"
      },
      "execution_count": 41,
      "outputs": [
        {
          "output_type": "stream",
          "name": "stdout",
          "text": [
            "숫자를 입력하세요: 8\n",
            "짝수\n"
          ]
        }
      ]
    },
    {
      "cell_type": "markdown",
      "source": [
        "# **코드 플레이스 1402. 가위, 바위, 보**\n",
        "\n",
        "**문제 설명** : A라는 사람과 B라는 사람이 가위, 바위, 보를 한다면, 아래 예시처럼(가위→1, 바위→2, 보→3)를 입력 받아서 승,패,무 결과를 출력하는 프로그램을 작성한다.\n",
        "\n",
        "- 입력이 2 2 인 경우 출력은 \"무승부\"\n",
        "\n",
        "- 입력이 1 3 인 경우 출력은 \"A승B패\"\n",
        "\n",
        "- 입력이 2 3 인 경우 출력은 \"B승A패\"\n",
        "\n",
        "- 입력이 2 4 인 경우 \"잘못된 입력\"\n",
        "\n",
        "- 입력이 4 1 인 경우 \"잘못된 입력\"\n",
        "\n"
      ],
      "metadata": {
        "id": "4qAzN5lzlsP5"
      }
    },
    {
      "cell_type": "markdown",
      "source": [
        "# **4주차 강의 노트: 논리 연산자**\n",
        "- and (그리고)\n",
        "- or (또는)\n",
        "- not (부정)\n",
        "- 불리언 값을 조합하여 조건 판단\n",
        "\n"
      ],
      "metadata": {
        "id": "gBsGavCGixQl"
      }
    },
    {
      "cell_type": "code",
      "source": [
        "num = int(input(\"숫자를 입력하세요.\"))\n",
        "\n",
        "if num==1 or num==2 or num==3:\n",
        "  print(True)\n",
        "else:\n",
        "  print(False)"
      ],
      "metadata": {
        "colab": {
          "base_uri": "https://localhost:8080/"
        },
        "id": "8363zxWVi3bu",
        "outputId": "e862c90f-d029-453e-9bfa-0ba4663f426d"
      },
      "execution_count": 54,
      "outputs": [
        {
          "output_type": "stream",
          "name": "stdout",
          "text": [
            "숫자를 입력하세요.1\n",
            "True\n"
          ]
        }
      ]
    },
    {
      "cell_type": "markdown",
      "source": [
        "**입력**: A와 B의 가위, 바위, 보의 값을 숫자로 입력한다.\n",
        "\n",
        "**출력**: 가위, 바위, 보의 결과를 출력한다.\n",
        "\n",
        "- 출력결과는 다음 4가지중 하나로 출력된다: A승B패, B승A패, 무승부, 잘못된입력"
      ],
      "metadata": {
        "id": "KjA3b91krSbi"
      }
    },
    {
      "cell_type": "code",
      "source": [
        "a, b = map(int, input(\"A와 B의 선택을 입력하세요 (가위:1, 바위:2, 보:3): \").split())\n",
        "\n",
        "# 입력값 유효성 검사\n",
        "if a not in [1, 2, 3] or b not in [1, 2, 3]:\n",
        "    print(\"잘못된 입력입니다.\")\n",
        "elif a == b:\n",
        "    print(\"무승부 입니다.\")\n",
        "elif (a == 1 and b == 3) or (a == 2 and b == 1) or (a == 3 and b == 2):\n",
        "    print(\"A승B패 입니다.\")\n",
        "else:\n",
        "    print(\"B승A패 입니다.\")"
      ],
      "metadata": {
        "colab": {
          "base_uri": "https://localhost:8080/"
        },
        "id": "W29QJM-znut9",
        "outputId": "2a0478ea-b85f-4487-90e0-57f473d7a1ff"
      },
      "execution_count": 61,
      "outputs": [
        {
          "output_type": "stream",
          "name": "stdout",
          "text": [
            "A와 B의 선택을 입력하세요 (가위:1, 바위:2, 보:3): 1 2\n",
            "B승A패 입니다.\n"
          ]
        }
      ]
    },
    {
      "cell_type": "markdown",
      "source": [
        "![Accepted.png](data:image/png;base64,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)"
      ],
      "metadata": {
        "id": "SDsPFL3IsaDC"
      }
    },
    {
      "cell_type": "code",
      "source": [
        "a, b = map(int, input().split())\n",
        "\n",
        "if a > 3 or b > 3:\n",
        "    print(\"잘못된입력\")\n",
        "elif a == b:\n",
        "    print(\"무승부\")\n",
        "elif (a == 1 and b == 3) or (a == 2 and b == 1) or (a == 3 and b == 2):\n",
        "    print(\"A승B패\")\n",
        "else:\n",
        "    print(\"B승A패\")"
      ],
      "metadata": {
        "colab": {
          "base_uri": "https://localhost:8080/"
        },
        "id": "GdEyRS02smw6",
        "outputId": "dfda92ca-673f-499d-d12e-ed66540915ec"
      },
      "execution_count": 62,
      "outputs": [
        {
          "output_type": "stream",
          "name": "stdout",
          "text": [
            "1 3\n",
            "A승B패\n"
          ]
        }
      ]
    }
  ]
}