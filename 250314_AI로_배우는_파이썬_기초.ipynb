{
  "nbformat": 4,
  "nbformat_minor": 0,
  "metadata": {
    "colab": {
      "provenance": [],
      "authorship_tag": "ABX9TyMTNv3eoOdxN2pab3htxtQ+",
      "include_colab_link": true
    },
    "kernelspec": {
      "name": "python3",
      "display_name": "Python 3"
    },
    "language_info": {
      "name": "python"
    }
  },
  "cells": [
    {
      "cell_type": "markdown",
      "metadata": {
        "id": "view-in-github",
        "colab_type": "text"
      },
      "source": [
        "<a href=\"https://colab.research.google.com/github/namhawon/2025_Study02/blob/main/250314_AI%EB%A1%9C_%EB%B0%B0%EC%9A%B0%EB%8A%94_%ED%8C%8C%EC%9D%B4%EC%8D%AC_%EA%B8%B0%EC%B4%88.ipynb\" target=\"_parent\"><img src=\"https://colab.research.google.com/assets/colab-badge.svg\" alt=\"Open In Colab\"/></a>"
      ]
    },
    {
      "cell_type": "markdown",
      "source": [
        "**문제 1**\n",
        "반지름이 5인 원의 면적을 구하시오.\n",
        "π 원주율 값은 3.141592로 계산합니다\n",
        "\n",
        "<출력 예시>\n",
        "반지름이 5인 원의 면적은 78.5398입니다"
      ],
      "metadata": {
        "id": "Bini_fwJdH_L"
      }
    },
    {
      "cell_type": "code",
      "execution_count": 5,
      "metadata": {
        "colab": {
          "base_uri": "https://localhost:8080/"
        },
        "id": "A-Jy0dt-dD5Y",
        "outputId": "16197930-5965-4141-beb2-c728971cdd93"
      },
      "outputs": [
        {
          "output_type": "stream",
          "name": "stdout",
          "text": [
            "반지름이 5인 원의 면적은 78.5398입니다\n"
          ]
        }
      ],
      "source": [
        "# 반지름(r, radius) = 5\n",
        "r = 5\n",
        "\n",
        "# π 원주율 공식\n",
        "area = 3.141592 * r**2\n",
        "\n",
        "print(f\"반지름이 {r}인 원의 면적은 {area}입니다\") #변수값을 쉽게"
      ]
    },
    {
      "cell_type": "markdown",
      "source": [
        "**문제 2**\n",
        "분(정수)을 시간과 분으로 변환하여 출력하시오\n",
        "\n",
        "<출력 예시> 100분은 1시간 40분입니다."
      ],
      "metadata": {
        "id": "ni0TsVosdJz9"
      }
    },
    {
      "cell_type": "code",
      "source": [
        "t = 100 #시간은 100분\n",
        "hour = t//60\n",
        "minute = t% 60\n",
        "\n",
        "print(f\"{t}분은 {hour}시간 {minute}분입니다\")\n"
      ],
      "metadata": {
        "colab": {
          "base_uri": "https://localhost:8080/"
        },
        "id": "pI6Lh25yevYX",
        "outputId": "f1f5b7d5-7c99-4a72-d5d7-74a9a3aaee62"
      },
      "execution_count": 4,
      "outputs": [
        {
          "output_type": "stream",
          "name": "stdout",
          "text": [
            "100분은 1시간 40분입니다\n"
          ]
        }
      ]
    }
  ]
}