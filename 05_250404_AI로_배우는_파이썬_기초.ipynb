{
  "nbformat": 4,
  "nbformat_minor": 0,
  "metadata": {
    "colab": {
      "provenance": [],
      "authorship_tag": "ABX9TyN3clJHDUQQ27fHX6DCSh/w",
      "include_colab_link": true
    },
    "kernelspec": {
      "name": "python3",
      "display_name": "Python 3"
    },
    "language_info": {
      "name": "python"
    }
  },
  "cells": [
    {
      "cell_type": "markdown",
      "metadata": {
        "id": "view-in-github",
        "colab_type": "text"
      },
      "source": [
        "<a href=\"https://colab.research.google.com/github/namhawon/2025_Study02/blob/main/05_250404_AI%EB%A1%9C_%EB%B0%B0%EC%9A%B0%EB%8A%94_%ED%8C%8C%EC%9D%B4%EC%8D%AC_%EA%B8%B0%EC%B4%88.ipynb\" target=\"_parent\"><img src=\"https://colab.research.google.com/assets/colab-badge.svg\" alt=\"Open In Colab\"/></a>"
      ]
    },
    {
      "cell_type": "markdown",
      "source": [
        "# 5주차 강의노트"
      ],
      "metadata": {
        "id": "Fzn_YG0IVF7j"
      }
    },
    {
      "cell_type": "markdown",
      "source": [
        "# 리스트(List)"
      ],
      "metadata": {
        "id": "A8TOtXxFiJfh"
      }
    },
    {
      "cell_type": "markdown",
      "source": [
        "**리스트란?**"
      ],
      "metadata": {
        "id": "2-m1wdsHiPL6"
      }
    },
    {
      "cell_type": "markdown",
      "source": [
        "**리스트 만들기**"
      ],
      "metadata": {
        "id": "Ko8qlbGIiRrK"
      }
    },
    {
      "cell_type": "code",
      "source": [
        "# 빈 리스트 만들기\n",
        "빈_리스트 = []\n",
        "\n",
        "# 숫자만 있는 리스트\n",
        "숫자_리스트 = [1, 2, 3, 4, 5]\n",
        "\n",
        "# 문자열만 있는 리스트\n",
        "과일_리스트 = [\"사과\", \"바나나\", \"딸기\"]\n",
        "\n",
        "# 다양한 타입이 섞인 리스트\n",
        "혼합_리스트 = [1, \"안녕\", True, 3.14]"
      ],
      "metadata": {
        "id": "pqweyBGAiYJb"
      },
      "execution_count": null,
      "outputs": []
    },
    {
      "cell_type": "markdown",
      "source": [
        "**리스트 항목 접근하기**"
      ],
      "metadata": {
        "id": "9YBPEYOeiUeq"
      }
    },
    {
      "cell_type": "code",
      "execution_count": 1,
      "metadata": {
        "id": "hu0JJgWlUtzp"
      },
      "outputs": [],
      "source": [
        "과일_리스트 = [\"사과\", \"바나나\", \"딸기\", \"포도\"]\n",
        "\n",
        "# 첫 번째 항목 접근 (인덱스 0)\n",
        "첫번째 = 과일_리스트[0]  # \"사과\"\n",
        "\n",
        "# 세 번째 항목 접근 (인덱스 2)\n",
        "세번째 = 과일_리스트[2]  # \"딸기\"\n",
        "\n",
        "# 마지막 항목 접근 (인덱스 -1)\n",
        "마지막 = 과일_리스트[-1]  # \"포도\" : 리스트의 마지막 항목\n",
        "\n",
        "# 뒤에서 두 번째 항목 접근 (인덱스 -2)\n",
        "뒤에서_두번째 = 과일_리스트[-2]  # \"딸기\" : 리스트의 뒤에서 두 번째 항목"
      ]
    },
    {
      "cell_type": "markdown",
      "source": [
        "**리스트 자르기(슬라이싱)**"
      ],
      "metadata": {
        "id": "q5aZvs3NjD6U"
      }
    },
    {
      "cell_type": "code",
      "source": [
        "숫자 = [0, 1, 2, 3, 4, 5, 6, 7, 8, 9]\n",
        "\n",
        "# 인덱스 2부터 5까지 (5는 포함하지 않음)\n",
        "부분 = 숫자[2:5]     # [2, 3, 4]\n",
        "\n",
        "# 처음부터 인덱스 4까지\n",
        "처음부터 = 숫자[:4]  # [0, 1, 2, 3]\n",
        "\n",
        "# 인덱스 6부터 끝까지\n",
        "끝까지 = 숫자[6:]    # [6, 7, 8, 9]\n",
        "\n",
        "# 2칸씩 건너뛰기\n",
        "건너뛰기 = 숫자[::2]  # [0, 2, 4, 6, 8]\n",
        "\n",
        "# 거꾸로 (역순)\n",
        "거꾸로 = 숫자[::-1]  # [9, 8, 7, 6, 5, 4, 3, 2, 1, 0]"
      ],
      "metadata": {
        "id": "E2M_U10-jG1C"
      },
      "execution_count": 7,
      "outputs": []
    },
    {
      "cell_type": "markdown",
      "source": [
        "**리스트 수정하기**"
      ],
      "metadata": {
        "id": "_mJfch-jjYBm"
      }
    },
    {
      "cell_type": "code",
      "source": [
        "과일 = [\"사과\", \"바나나\", \"딸기\"]\n",
        "\n",
        "# 특정 위치의 항목 변경하기\n",
        "과일[1] = \"키위\"\n",
        "# 결과: [\"사과\", \"키위\", \"딸기\"]\n",
        "\n",
        "# 리스트 끝에 항목 추가하기\n",
        "과일.append(\"포도\")\n",
        "# 결과: [\"사과\", \"키위\", \"딸기\", \"포도\"]\n",
        "\n",
        "# 특정 위치에 항목 삽입하기\n",
        "과일.insert(1, \"오렌지\")\n",
        "# 결과: [\"사과\", \"오렌지\", \"키위\", \"딸기\", \"포도\"]\n",
        "\n",
        "# 여러 항목 한 번에 추가하기\n",
        "과일.extend([\"망고\", \"수박\"])\n",
        "# 결과: [\"사과\", \"오렌지\", \"키위\", \"딸기\", \"포도\", \"망고\", \"수박\"]"
      ],
      "metadata": {
        "id": "f5RBWOmijaNP"
      },
      "execution_count": 8,
      "outputs": []
    },
    {
      "cell_type": "code",
      "source": [
        "## 수업 예제: 랜덤 로또 번호\n",
        "import random\n",
        "my_list = []\n",
        "\n",
        "for i in range(1, 7):\n",
        "    num = random.randint(1, 45)\n",
        "    my_list.append(num)\n",
        "\n",
        "# 리스트 출력\n",
        "print(my_list)"
      ],
      "metadata": {
        "colab": {
          "base_uri": "https://localhost:8080/"
        },
        "id": "iDBgX5fmkhcV",
        "outputId": "4bfc10f2-74d1-4299-8748-2aa47c2b1c91"
      },
      "execution_count": 11,
      "outputs": [
        {
          "output_type": "stream",
          "name": "stdout",
          "text": [
            "[10, 22, 39, 2, 20, 23]\n"
          ]
        }
      ]
    },
    {
      "cell_type": "markdown",
      "source": [
        "**리스트에서 항목 제거하기**"
      ],
      "metadata": {
        "id": "GZEUV_MvkMV1"
      }
    },
    {
      "cell_type": "code",
      "source": [
        "과일 = [\"사과\", \"바나나\", \"딸기\", \"포도\", \"키위\"]\n",
        "\n",
        "# 마지막 항목 제거하고 반환하기\n",
        "마지막_과일 = 과일.pop()\n",
        "# 마지막_과일 = \"키위\"\n",
        "# 과일 = [\"사과\", \"바나나\", \"딸기\", \"포도\"]\n",
        "\n",
        "# 특정 위치의 항목 제거하고 반환하기 (예: 인덱스 1)\n",
        "두번째_과일 = 과일.pop(1)\n",
        "# 두번째_과일 = \"바나나\"\n",
        "# 과일 = [\"사과\", \"딸기\", \"포도\"]\n",
        "\n",
        "# 특정 값을 가진 항목 제거하기\n",
        "과일.remove(\"딸기\")\n",
        "# 과일 = [\"사과\", \"포도\"]\n",
        "\n",
        "# 모든 항목 제거하기\n",
        "과일.clear()\n",
        "# 과일 = []"
      ],
      "metadata": {
        "id": "3RpLMJT2kQKd"
      },
      "execution_count": 5,
      "outputs": []
    },
    {
      "cell_type": "markdown",
      "source": [
        "**리스트 기본 연산**"
      ],
      "metadata": {
        "id": "AitzjAjLtbF-"
      }
    },
    {
      "cell_type": "code",
      "source": [
        "# 리스트 길이 구하기\n",
        "숫자 = [1, 2, 3, 4, 5]\n",
        "길이 = len(숫자)\n",
        "print(\"리스트 길이:\", 길이)  # 5\n",
        "\n",
        "# 리스트 연결하기\n",
        "리스트1 = [1, 2, 3]\n",
        "리스트2 = [4, 5, 6]\n",
        "합친_리스트 = 리스트1 + 리스트2\n",
        "print(\"리스트 연결:\", 합친_리스트)  # [1, 2, 3, 4, 5, 6]\n",
        "\n",
        "# 리스트 반복하기\n",
        "반복_리스트 = 리스트1 * 3\n",
        "print(\"리스트 반복:\", 반복_리스트)  # [1, 2, 3, 1, 2, 3, 1, 2, 3]\n",
        "\n",
        "# 항목이 리스트에 있는지 확인하기\n",
        "있는지_확인 = 3 in 리스트1\n",
        "없는지_확인 = 7 in 리스트1\n",
        "print(\"3 in 리스트1?\", 있는지_확인)   # True\n",
        "print(\"7 in 리스트1?\", 없는지_확인)  # False"
      ],
      "metadata": {
        "colab": {
          "base_uri": "https://localhost:8080/"
        },
        "id": "WAO_f95BtwkE",
        "outputId": "378cb16b-e5c2-416f-d512-5d7b3949b66c"
      },
      "execution_count": 12,
      "outputs": [
        {
          "output_type": "stream",
          "name": "stdout",
          "text": [
            "리스트 길이: 5\n",
            "리스트 연결: [1, 2, 3, 4, 5, 6]\n",
            "리스트 반복: [1, 2, 3, 1, 2, 3, 1, 2, 3]\n",
            "3 in 리스트1? True\n",
            "7 in 리스트1? False\n"
          ]
        }
      ]
    },
    {
      "cell_type": "markdown",
      "source": [
        "# 메서드"
      ],
      "metadata": {
        "id": "UiMTfmxDtTz3"
      }
    },
    {
      "cell_type": "markdown",
      "source": [
        "**메서드**\n",
        "파이썬에서 메소드는 객체에 속한 함수입니다. 리스트, 문자열, 숫자 등 다양한 객체들이 각자의 메소드를 가지고 있습니다. 메소드를 사용하면 객체를 조작하거나 정보를 얻을 수 있습니다.\n"
      ],
      "metadata": {
        "id": "kUFdYkUXrL3K"
      }
    },
    {
      "cell_type": "markdown",
      "source": [
        "![image.png](data:image/png;base64,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)"
      ],
      "metadata": {
        "id": "wFTrov_ewsvh"
      }
    },
    {
      "cell_type": "markdown",
      "source": [
        "**유용한 리스트 메서드**"
      ],
      "metadata": {
        "id": "sXfphMxrtYqX"
      }
    },
    {
      "cell_type": "code",
      "source": [
        "숫자 = [3, 1, 4, 1, 5, 9, 2, 6]\n",
        "\n",
        "# 리스트 정렬하기 (원본 변경)\n",
        "숫자.sort()\n",
        "print(\"오름차순 정렬:\", 숫자)  # [1, 1, 2, 3, 4, 5, 6, 9]\n",
        "\n",
        "# 내림차순으로 정렬하기\n",
        "숫자.sort(reverse=True)\n",
        "print(\"내림차순 정렬:\", 숫자)  # [9, 6, 5, 4, 3, 2, 1, 1]\n",
        "\n",
        "# 원본을 변경하지 않고 정렬된 새 리스트 얻기\n",
        "원본 = [3, 1, 4, 1, 5]\n",
        "정렬된 = sorted(원본)\n",
        "print(\"정렬된 리스트:\", 정렬된)   # [1, 1, 3, 4, 5]\n",
        "print(\"원본 리스트:\", 원본)     # [3, 1, 4, 1, 5] (변경되지 않음)\n",
        "\n",
        "# 리스트 뒤집기\n",
        "숫자.reverse()\n",
        "print(\"리스트 뒤집기:\", 숫자)  # [1, 1, 2, 3, 4, 5, 6, 9]\n",
        "\n",
        "# 특정 값의 개수 세기\n",
        "일의_개수 = 숫자.count(1)\n",
        "print(\"1의 개수:\", 일의_개수)  # 2\n",
        "\n",
        "# 특정 값의 첫 번째 위치 찾기\n",
        "인덱스 = 숫자.index(4)\n",
        "print(\"4의 인덱스:\", 인덱스)  # 4가 있는 인덱스"
      ],
      "metadata": {
        "colab": {
          "base_uri": "https://localhost:8080/"
        },
        "id": "ZW-43WIJuFhZ",
        "outputId": "26161a53-2687-4a33-dbfe-010c3fea7859"
      },
      "execution_count": 14,
      "outputs": [
        {
          "output_type": "stream",
          "name": "stdout",
          "text": [
            "오름차순 정렬: [1, 1, 2, 3, 4, 5, 6, 9]\n",
            "내림차순 정렬: [9, 6, 5, 4, 3, 2, 1, 1]\n",
            "정렬된 리스트: [1, 1, 3, 4, 5]\n",
            "원본 리스트: [3, 1, 4, 1, 5]\n",
            "리스트 뒤집기: [1, 1, 2, 3, 4, 5, 6, 9]\n",
            "1의 개수: 2\n",
            "4의 인덱스: 4\n"
          ]
        }
      ]
    },
    {
      "cell_type": "markdown",
      "source": [
        "# 리스트 활용 예제"
      ],
      "metadata": {
        "id": "2ntzQwVFuYPL"
      }
    },
    {
      "cell_type": "markdown",
      "source": [
        "**예제 1. 학생 성적 평균 계산하기**"
      ],
      "metadata": {
        "id": "TlWI3rNqudi6"
      }
    },
    {
      "cell_type": "code",
      "source": [
        "성적 = [85,92,78, 90,87]\n",
        "평균 = sum(성적)/len(성적)\n",
        "\n",
        "평균"
      ],
      "metadata": {
        "colab": {
          "base_uri": "https://localhost:8080/"
        },
        "id": "yN9wGgtyt3GU",
        "outputId": "df612c21-49a3-45ef-e17a-ac700ca855b8"
      },
      "execution_count": 15,
      "outputs": [
        {
          "output_type": "execute_result",
          "data": {
            "text/plain": [
              "86.4"
            ]
          },
          "metadata": {},
          "execution_count": 15
        }
      ]
    },
    {
      "cell_type": "code",
      "source": [
        "# #제어문을 활용해서 총합과 평균을 구하세요\n",
        "성적 = [85, 92, 78, 90, 87]\n",
        "\n",
        "총합 = 0\n",
        "항목수 = 0\n",
        "\n",
        "for 점수 in 성적:\n",
        "    총합 += 점수\n",
        "    항목수 += 1\n",
        "\n",
        "평균 = 총합 / 항목수\n",
        "\n",
        "print(\"총합:\", 총합)\n",
        "print(\"평균:\", 평균)"
      ],
      "metadata": {
        "colab": {
          "base_uri": "https://localhost:8080/"
        },
        "id": "2xAZeosGuyve",
        "outputId": "37b6b693-bc77-42eb-de2a-10cc846f8bde"
      },
      "execution_count": 17,
      "outputs": [
        {
          "output_type": "stream",
          "name": "stdout",
          "text": [
            "총합: 432\n",
            "평균: 86.4\n"
          ]
        }
      ]
    },
    {
      "cell_type": "markdown",
      "source": [
        "**예제 2. 합격자 명단 만들기**"
      ],
      "metadata": {
        "id": "s24r0cx2uirF"
      }
    },
    {
      "cell_type": "code",
      "source": [
        "학생들 = [(\"철수\", 85), (\"영희\", 92), (\"민수\", 65), (\"지영\", 78)]\n",
        "합격자 = []\n",
        "\n",
        "for 학생, 점수 in 학생들:\n",
        "    if 점수 >= 70:\n",
        "        합격자.append(학생)\n",
        "\n",
        "print(\"합격자:\", 합격자)  # ['철수', '영희', '지영']"
      ],
      "metadata": {
        "colab": {
          "base_uri": "https://localhost:8080/"
        },
        "id": "WIi6GXiguyW4",
        "outputId": "5664da21-b260-4e7b-b0f7-0e6c86714254"
      },
      "execution_count": 18,
      "outputs": [
        {
          "output_type": "stream",
          "name": "stdout",
          "text": [
            "합격자: ['철수', '영희', '지영']\n"
          ]
        }
      ]
    },
    {
      "cell_type": "markdown",
      "source": [
        "**예제 3. 중복 제거하기**"
      ],
      "metadata": {
        "id": "sqXzlXd-uqyB"
      }
    },
    {
      "cell_type": "code",
      "source": [
        "숫자들 = [1, 2, 2, 3, 4, 4, 5, 5, 5]\n",
        "\n",
        "# set()을 이용해 중복 제거하고 다시 리스트로 변환\n",
        "중복제거 = list(set(숫자들))\n",
        "\n",
        "print(\"중복 제거 결과:\", 중복제거)  # [1, 2, 3, 4, 5]"
      ],
      "metadata": {
        "colab": {
          "base_uri": "https://localhost:8080/"
        },
        "id": "lLtlKWI0umoz",
        "outputId": "e9289536-b33f-42fa-9b8a-f0bfbcf412a0"
      },
      "execution_count": 19,
      "outputs": [
        {
          "output_type": "stream",
          "name": "stdout",
          "text": [
            "중복 제거 결과: [1, 2, 3, 4, 5]\n"
          ]
        }
      ]
    },
    {
      "cell_type": "markdown",
      "source": [
        "# 실습 문제"
      ],
      "metadata": {
        "id": "jTtGGtNnwwAI"
      }
    },
    {
      "cell_type": "markdown",
      "source": [
        "**문제 이해:**\n",
        "리스트는 여러 개의 항목을 순서대로 저장하는 데 사용되는 기본적인 자료 구조입니다. 아래 문제들을 통해 리스트의 생성, 접근, 수정, 순회 등 기본적인 연산을 익히는 연습을 합니다."
      ],
      "metadata": {
        "id": "PCOT2sF1wzJl"
      }
    },
    {
      "cell_type": "markdown",
      "source": [
        "\n",
        "**문제 1: 리스트 생성 및 요소 접근**\n",
        "\n",
        "CoT:\n",
        "\n",
        "- 과일 이름을 담는 리스트 fruits를 생성하고, 최소 3가지 이상의 과일을 초기 값으로 할당합니다.\n",
        "- 리스트의 첫 번째 요소와 마지막 요소를 각각 인덱스를 사용하여 접근합니다.\n",
        "- 접근한 각 요소를 print() 함수를 사용하여 출력합니다."
      ],
      "metadata": {
        "id": "WaNcpzQgxZiQ"
      }
    },
    {
      "cell_type": "code",
      "source": [
        "# 문제 1: 리스트 생성 및 요소 접근\n",
        "fruits = [\"사과\", \"바나나\", \"딸기\", \"포도\"]\n",
        "print(f\"과일 리스트: {fruits}\")\n",
        "\n",
        "first_fruit = fruits[0]  # 첫 번째 요소 (인덱스 0)에 접근\n",
        "print(f\"첫 번째 과일: {first_fruit}\")\n",
        "\n",
        "last_fruit = fruits[-1]  # 마지막 요소 (인덱스 -1)에 접근\n",
        "print(f\"마지막 과일: {last_fruit}\")"
      ],
      "metadata": {
        "colab": {
          "base_uri": "https://localhost:8080/"
        },
        "id": "0dLoqu_hxGdl",
        "outputId": "077cec3e-4f2a-41b9-c2db-19d55f1874a6"
      },
      "execution_count": 20,
      "outputs": [
        {
          "output_type": "stream",
          "name": "stdout",
          "text": [
            "과일 리스트: ['사과', '바나나', '딸기', '포도']\n",
            "첫 번째 과일: 사과\n",
            "마지막 과일: 포도\n"
          ]
        }
      ]
    },
    {
      "cell_type": "markdown",
      "source": [
        "**문제 2: 리스트 요소 추가 및 삭제**\n",
        "\n",
        "CoT:\n",
        "\n",
        "- 문제 1에서 생성한 fruits 리스트에 새로운 과일 \"오렌지\"를 추가합니다. 리스트의 끝에 추가해야 하므로 append() 메서드를 사용합니다.\n",
        "- 추가된 후의 리스트를 출력합니다.\n",
        "- 리스트에서 \"바나나\"를 삭제합니다. remove() 메서드를 사용하여 특정 값을 삭제합니다.\n",
        "- 삭제된 후의 리스트를 출력합니다."
      ],
      "metadata": {
        "id": "d_7HrGB9xbLd"
      }
    },
    {
      "cell_type": "code",
      "source": [
        "# 문제 2: 리스트 요소 추가 및 삭제\n",
        "fruits = [\"사과\", \"바나나\", \"딸기\", \"포도\"]\n",
        "print(f\"원래 과일 리스트: {fruits}\")\n",
        "\n",
        "fruits.append(\"오렌지\")  # 리스트 끝에 \"오렌지\" 추가\n",
        "print(f\"요소 추가 후 리스트: {fruits}\")\n",
        "\n",
        "fruits.remove(\"바나나\")  # 리스트에서 \"바나나\" 삭제\n",
        "print(f\"요소 삭제 후 리스트: {fruits}\")"
      ],
      "metadata": {
        "colab": {
          "base_uri": "https://localhost:8080/"
        },
        "id": "rpcDnHLmxpF_",
        "outputId": "856eb738-a17e-423a-9a07-5c85089bab80"
      },
      "execution_count": 21,
      "outputs": [
        {
          "output_type": "stream",
          "name": "stdout",
          "text": [
            "원래 과일 리스트: ['사과', '바나나', '딸기', '포도']\n",
            "요소 추가 후 리스트: ['사과', '바나나', '딸기', '포도', '오렌지']\n",
            "요소 삭제 후 리스트: ['사과', '딸기', '포도', '오렌지']\n"
          ]
        }
      ]
    },
    {
      "cell_type": "markdown",
      "source": [
        "**문제 3: 리스트 요소 순회하며 출력**\n",
        "\n",
        "CoT:\n",
        "\n",
        "- 숫자를 담는 리스트 numbers를 생성하고, 몇 개의 숫자를 초기 값으로 할당합니다.\n",
        "- for 루프를 사용하여 리스트의 각 요소를 순회합니다.\n",
        "- 각 요소를 print() 함수를 사용하여 한 줄씩 출력합니다."
      ],
      "metadata": {
        "id": "42GQkPjixr9y"
      }
    },
    {
      "cell_type": "code",
      "source": [
        "# 문제 3: 리스트 요소 순회하며 출력\n",
        "numbers = [1, 5, 12, 8, 21]\n",
        "print(\"숫자 리스트의 요소:\")\n",
        "for num in numbers:\n",
        "    print(num)"
      ],
      "metadata": {
        "colab": {
          "base_uri": "https://localhost:8080/"
        },
        "id": "uRIIdkUGx3kA",
        "outputId": "f1643b35-b3bd-42bd-a273-6beda11d3eee"
      },
      "execution_count": 22,
      "outputs": [
        {
          "output_type": "stream",
          "name": "stdout",
          "text": [
            "숫자 리스트의 요소:\n",
            "1\n",
            "5\n",
            "12\n",
            "8\n",
            "21\n"
          ]
        }
      ]
    },
    {
      "cell_type": "markdown",
      "source": [
        "**문제 4: 리스트 요소 값 변경**\n",
        "\n",
        "CoT:\n",
        "\n",
        "- 색깔 이름을 담는 리스트 colors를 생성하고, 몇 가지 색깔을 초기 값으로 할당합니다.\n",
        "- 리스트의 특정 인덱스 (예: 인덱스 1)에 있는 요소의 값을 새로운 색깔로 변경합니다.\n",
        "- 변경 전과 변경 후의 리스트를 각각 출력하여 결과를 확인합니다.\n",
        "\n",
        "\n",
        "\n"
      ],
      "metadata": {
        "id": "25-0lq3Mx2Sz"
      }
    },
    {
      "cell_type": "code",
      "source": [
        "# 문제 4: 리스트 요소 값 변경\n",
        "colors = [\"빨강\", \"초록\", \"파랑\"]\n",
        "print(f\"원래 색깔 리스트: {colors}\")\n",
        "\n",
        "colors[1] = \"노랑\"  # 인덱스 1의 \"초록\"을 \"노랑\"으로 변경\n",
        "print(f\"요소 변경 후 색깔 리스트: {colors}\")"
      ],
      "metadata": {
        "colab": {
          "base_uri": "https://localhost:8080/"
        },
        "id": "bPmcWUxByLWn",
        "outputId": "424ca7e2-ed26-4b9b-a399-65041033ba82"
      },
      "execution_count": 23,
      "outputs": [
        {
          "output_type": "stream",
          "name": "stdout",
          "text": [
            "원래 색깔 리스트: ['빨강', '초록', '파랑']\n",
            "요소 변경 후 색깔 리스트: ['빨강', '노랑', '파랑']\n"
          ]
        }
      ]
    },
    {
      "cell_type": "markdown",
      "source": [
        "**문제 5: 두 개의 리스트 합치기**\n",
        "\n",
        "CoT:\n",
        "\n",
        "- 첫 번째 숫자 리스트 list1을 생성하고 몇 개의 숫자를 초기 값으로 할당합니다.\n",
        "- 두 번째 숫자 리스트 list2를 생성하고 몇 개의 숫자를 초기 값으로 할당합니다.\n",
        "- 연산자를 사용하여 list1과 list2를 합쳐 새로운 리스트 combined_list를 생성합니다.\n",
        "- extend() 메서드를 사용하여 list1에 list2의 모든 요소를 추가합니다. (두 가지 방법 모두 보여줍니다.)\n",
        "- 합쳐진 리스트를 출력합니다."
      ],
      "metadata": {
        "id": "6oNw_0YQyVl-"
      }
    },
    {
      "cell_type": "code",
      "source": [
        "# 문제 5: 두 개의 리스트 합치기\n",
        "list1 = [1, 2, 3]\n",
        "list2 = [4, 5, 6]\n",
        "print(f\"첫 번째 리스트: {list1}\")\n",
        "print(f\"두 번째 리스트: {list2}\")"
      ],
      "metadata": {
        "colab": {
          "base_uri": "https://localhost:8080/"
        },
        "id": "OM-9anwNydEw",
        "outputId": "402cf649-5dd8-48ba-fd93-4bd8bf867f5d"
      },
      "execution_count": 24,
      "outputs": [
        {
          "output_type": "stream",
          "name": "stdout",
          "text": [
            "첫 번째 리스트: [1, 2, 3]\n",
            "두 번째 리스트: [4, 5, 6]\n"
          ]
        }
      ]
    },
    {
      "cell_type": "code",
      "source": [
        "# 방법 1: + 연산자 사용\n",
        "combined_list_plus = list1 + list2\n",
        "print(f\"두 리스트 합치기 (+) 결과: {combined_list_plus}\")"
      ],
      "metadata": {
        "colab": {
          "base_uri": "https://localhost:8080/"
        },
        "id": "i3Zf8FJ4ydJ0",
        "outputId": "08410bf0-cad6-4592-e994-94deff62ae20"
      },
      "execution_count": 25,
      "outputs": [
        {
          "output_type": "stream",
          "name": "stdout",
          "text": [
            "두 리스트 합치기 (+) 결과: [1, 2, 3, 4, 5, 6]\n"
          ]
        }
      ]
    },
    {
      "cell_type": "code",
      "source": [
        "# 방법 2: extend() 메서드 사용\n",
        "list1.extend(list2)\n",
        "print(f\"첫 번째 리스트에 두 번째 리스트 확장 (extend()): {list1}\")"
      ],
      "metadata": {
        "colab": {
          "base_uri": "https://localhost:8080/"
        },
        "id": "lpoayj69ydOq",
        "outputId": "aa704a20-1a0a-434a-cc6e-d5c1e3d1b7ae"
      },
      "execution_count": 26,
      "outputs": [
        {
          "output_type": "stream",
          "name": "stdout",
          "text": [
            "첫 번째 리스트에 두 번째 리스트 확장 (extend()): [1, 2, 3, 4, 5, 6]\n"
          ]
        }
      ]
    },
    {
      "cell_type": "markdown",
      "source": [
        "위 5가지 문제는 리스트를 생성하고, 요소에 접근하고, 추가/삭제하고, 순회하고, 값을 변경하고, 다른 리스트와 합치는 기본적인 리스트 연산을 연습하는 데 도움이 될 것입니다. 각 문제의 CoT 설명을 따라 코드를 이해하고 직접 실행해보면서 리스트 활용 능력을 향상시킬 수 있습니다."
      ],
      "metadata": {
        "id": "okPZGKnLyZsM"
      }
    }
  ]
}