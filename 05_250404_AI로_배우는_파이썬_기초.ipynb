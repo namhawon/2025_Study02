{
  "nbformat": 4,
  "nbformat_minor": 0,
  "metadata": {
    "colab": {
      "provenance": [],
      "authorship_tag": "ABX9TyNH+AvAZ9jdm1xOntJZUYp0",
      "include_colab_link": true
    },
    "kernelspec": {
      "name": "python3",
      "display_name": "Python 3"
    },
    "language_info": {
      "name": "python"
    }
  },
  "cells": [
    {
      "cell_type": "markdown",
      "metadata": {
        "id": "view-in-github",
        "colab_type": "text"
      },
      "source": [
        "<a href=\"https://colab.research.google.com/github/namhawon/2025_Study02/blob/main/05_250404_AI%EB%A1%9C_%EB%B0%B0%EC%9A%B0%EB%8A%94_%ED%8C%8C%EC%9D%B4%EC%8D%AC_%EA%B8%B0%EC%B4%88.ipynb\" target=\"_parent\"><img src=\"https://colab.research.google.com/assets/colab-badge.svg\" alt=\"Open In Colab\"/></a>"
      ]
    },
    {
      "cell_type": "markdown",
      "source": [
        "# 5주차 강의노트"
      ],
      "metadata": {
        "id": "Fzn_YG0IVF7j"
      }
    },
    {
      "cell_type": "markdown",
      "source": [
        "# 리스트(List)"
      ],
      "metadata": {
        "id": "A8TOtXxFiJfh"
      }
    },
    {
      "cell_type": "markdown",
      "source": [
        "**리스트란?**"
      ],
      "metadata": {
        "id": "2-m1wdsHiPL6"
      }
    },
    {
      "cell_type": "markdown",
      "source": [
        "**리스트 만들기**"
      ],
      "metadata": {
        "id": "Ko8qlbGIiRrK"
      }
    },
    {
      "cell_type": "code",
      "source": [
        "# 빈 리스트 만들기\n",
        "빈_리스트 = []\n",
        "\n",
        "# 숫자만 있는 리스트\n",
        "숫자_리스트 = [1, 2, 3, 4, 5]\n",
        "\n",
        "# 문자열만 있는 리스트\n",
        "과일_리스트 = [\"사과\", \"바나나\", \"딸기\"]\n",
        "\n",
        "# 다양한 타입이 섞인 리스트\n",
        "혼합_리스트 = [1, \"안녕\", True, 3.14]"
      ],
      "metadata": {
        "id": "pqweyBGAiYJb"
      },
      "execution_count": null,
      "outputs": []
    },
    {
      "cell_type": "markdown",
      "source": [
        "**리스트 항목 접근하기**"
      ],
      "metadata": {
        "id": "9YBPEYOeiUeq"
      }
    },
    {
      "cell_type": "code",
      "execution_count": 1,
      "metadata": {
        "id": "hu0JJgWlUtzp"
      },
      "outputs": [],
      "source": [
        "과일_리스트 = [\"사과\", \"바나나\", \"딸기\", \"포도\"]\n",
        "\n",
        "# 첫 번째 항목 접근 (인덱스 0)\n",
        "첫번째 = 과일_리스트[0]  # \"사과\"\n",
        "\n",
        "# 세 번째 항목 접근 (인덱스 2)\n",
        "세번째 = 과일_리스트[2]  # \"딸기\"\n",
        "\n",
        "# 마지막 항목 접근 (인덱스 -1)\n",
        "마지막 = 과일_리스트[-1]  # \"포도\" : 리스트의 마지막 항목\n",
        "\n",
        "# 뒤에서 두 번째 항목 접근 (인덱스 -2)\n",
        "뒤에서_두번째 = 과일_리스트[-2]  # \"딸기\" : 리스트의 뒤에서 두 번째 항목"
      ]
    },
    {
      "cell_type": "markdown",
      "source": [
        "**리스트 자르기(슬라이싱)**"
      ],
      "metadata": {
        "id": "q5aZvs3NjD6U"
      }
    },
    {
      "cell_type": "code",
      "source": [
        "숫자 = [0, 1, 2, 3, 4, 5, 6, 7, 8, 9]\n",
        "\n",
        "# 인덱스 2부터 5까지 (5는 포함하지 않음)\n",
        "부분 = 숫자[2:5]     # [2, 3, 4]\n",
        "\n",
        "# 처음부터 인덱스 4까지\n",
        "처음부터 = 숫자[:4]  # [0, 1, 2, 3]\n",
        "\n",
        "# 인덱스 6부터 끝까지\n",
        "끝까지 = 숫자[6:]    # [6, 7, 8, 9]\n",
        "\n",
        "# 2칸씩 건너뛰기\n",
        "건너뛰기 = 숫자[::2]  # [0, 2, 4, 6, 8]\n",
        "\n",
        "# 거꾸로 (역순)\n",
        "거꾸로 = 숫자[::-1]  # [9, 8, 7, 6, 5, 4, 3, 2, 1, 0]"
      ],
      "metadata": {
        "id": "E2M_U10-jG1C"
      },
      "execution_count": 7,
      "outputs": []
    },
    {
      "cell_type": "markdown",
      "source": [
        "**리스트 수정하기**"
      ],
      "metadata": {
        "id": "_mJfch-jjYBm"
      }
    },
    {
      "cell_type": "code",
      "source": [
        "과일 = [\"사과\", \"바나나\", \"딸기\"]\n",
        "\n",
        "# 특정 위치의 항목 변경하기\n",
        "과일[1] = \"키위\"\n",
        "# 결과: [\"사과\", \"키위\", \"딸기\"]\n",
        "\n",
        "# 리스트 끝에 항목 추가하기\n",
        "과일.append(\"포도\")\n",
        "# 결과: [\"사과\", \"키위\", \"딸기\", \"포도\"]\n",
        "\n",
        "# 특정 위치에 항목 삽입하기\n",
        "과일.insert(1, \"오렌지\")\n",
        "# 결과: [\"사과\", \"오렌지\", \"키위\", \"딸기\", \"포도\"]\n",
        "\n",
        "# 여러 항목 한 번에 추가하기\n",
        "과일.extend([\"망고\", \"수박\"])\n",
        "# 결과: [\"사과\", \"오렌지\", \"키위\", \"딸기\", \"포도\", \"망고\", \"수박\"]"
      ],
      "metadata": {
        "id": "f5RBWOmijaNP"
      },
      "execution_count": 8,
      "outputs": []
    },
    {
      "cell_type": "code",
      "source": [
        "## 수업 예제: 랜덤 로또 번호\n",
        "import random\n",
        "my_list = []\n",
        "\n",
        "for i in range(1, 7):\n",
        "    num = random.randint(1, 45)\n",
        "    my_list.append(num)\n",
        "\n",
        "# 리스트 출력\n",
        "print(my_list)"
      ],
      "metadata": {
        "colab": {
          "base_uri": "https://localhost:8080/"
        },
        "id": "iDBgX5fmkhcV",
        "outputId": "4bfc10f2-74d1-4299-8748-2aa47c2b1c91"
      },
      "execution_count": 11,
      "outputs": [
        {
          "output_type": "stream",
          "name": "stdout",
          "text": [
            "[10, 22, 39, 2, 20, 23]\n"
          ]
        }
      ]
    },
    {
      "cell_type": "markdown",
      "source": [
        "**리스트에서 항목 제거하기**"
      ],
      "metadata": {
        "id": "GZEUV_MvkMV1"
      }
    },
    {
      "cell_type": "code",
      "source": [
        "과일 = [\"사과\", \"바나나\", \"딸기\", \"포도\", \"키위\"]\n",
        "\n",
        "# 마지막 항목 제거하고 반환하기\n",
        "마지막_과일 = 과일.pop()\n",
        "# 마지막_과일 = \"키위\"\n",
        "# 과일 = [\"사과\", \"바나나\", \"딸기\", \"포도\"]\n",
        "\n",
        "# 특정 위치의 항목 제거하고 반환하기 (예: 인덱스 1)\n",
        "두번째_과일 = 과일.pop(1)\n",
        "# 두번째_과일 = \"바나나\"\n",
        "# 과일 = [\"사과\", \"딸기\", \"포도\"]\n",
        "\n",
        "# 특정 값을 가진 항목 제거하기\n",
        "과일.remove(\"딸기\")\n",
        "# 과일 = [\"사과\", \"포도\"]\n",
        "\n",
        "# 모든 항목 제거하기\n",
        "과일.clear()\n",
        "# 과일 = []"
      ],
      "metadata": {
        "id": "3RpLMJT2kQKd"
      },
      "execution_count": 5,
      "outputs": []
    },
    {
      "cell_type": "markdown",
      "source": [
        "**리스트 기본 연산**"
      ],
      "metadata": {
        "id": "AitzjAjLtbF-"
      }
    },
    {
      "cell_type": "code",
      "source": [
        "# 리스트 길이 구하기\n",
        "숫자 = [1, 2, 3, 4, 5]\n",
        "길이 = len(숫자)\n",
        "print(\"리스트 길이:\", 길이)  # 5\n",
        "\n",
        "# 리스트 연결하기\n",
        "리스트1 = [1, 2, 3]\n",
        "리스트2 = [4, 5, 6]\n",
        "합친_리스트 = 리스트1 + 리스트2\n",
        "print(\"리스트 연결:\", 합친_리스트)  # [1, 2, 3, 4, 5, 6]\n",
        "\n",
        "# 리스트 반복하기\n",
        "반복_리스트 = 리스트1 * 3\n",
        "print(\"리스트 반복:\", 반복_리스트)  # [1, 2, 3, 1, 2, 3, 1, 2, 3]\n",
        "\n",
        "# 항목이 리스트에 있는지 확인하기\n",
        "있는지_확인 = 3 in 리스트1\n",
        "없는지_확인 = 7 in 리스트1\n",
        "print(\"3 in 리스트1?\", 있는지_확인)   # True\n",
        "print(\"7 in 리스트1?\", 없는지_확인)  # False"
      ],
      "metadata": {
        "colab": {
          "base_uri": "https://localhost:8080/"
        },
        "id": "WAO_f95BtwkE",
        "outputId": "378cb16b-e5c2-416f-d512-5d7b3949b66c"
      },
      "execution_count": 12,
      "outputs": [
        {
          "output_type": "stream",
          "name": "stdout",
          "text": [
            "리스트 길이: 5\n",
            "리스트 연결: [1, 2, 3, 4, 5, 6]\n",
            "리스트 반복: [1, 2, 3, 1, 2, 3, 1, 2, 3]\n",
            "3 in 리스트1? True\n",
            "7 in 리스트1? False\n"
          ]
        }
      ]
    },
    {
      "cell_type": "markdown",
      "source": [
        "# 메서드"
      ],
      "metadata": {
        "id": "UiMTfmxDtTz3"
      }
    },
    {
      "cell_type": "markdown",
      "source": [
        "**메서드**\n",
        "파이썬에서 메소드는 객체에 속한 함수입니다. 리스트, 문자열, 숫자 등 다양한 객체들이 각자의 메소드를 가지고 있습니다. 메소드를 사용하면 객체를 조작하거나 정보를 얻을 수 있습니다.\n"
      ],
      "metadata": {
        "id": "kUFdYkUXrL3K"
      }
    },
    {
      "cell_type": "markdown",
      "source": [
        "![image.png](data:image/png;base64,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)"
      ],
      "metadata": {
        "id": "xCKPXUs1tLq3"
      }
    },
    {
      "cell_type": "markdown",
      "source": [
        "**유용한 리스트 메서드**"
      ],
      "metadata": {
        "id": "sXfphMxrtYqX"
      }
    },
    {
      "cell_type": "code",
      "source": [
        "숫자 = [3, 1, 4, 1, 5, 9, 2, 6]\n",
        "\n",
        "# 리스트 정렬하기 (원본 변경)\n",
        "숫자.sort()\n",
        "print(\"오름차순 정렬:\", 숫자)  # [1, 1, 2, 3, 4, 5, 6, 9]\n",
        "\n",
        "# 내림차순으로 정렬하기\n",
        "숫자.sort(reverse=True)\n",
        "print(\"내림차순 정렬:\", 숫자)  # [9, 6, 5, 4, 3, 2, 1, 1]\n",
        "\n",
        "# 원본을 변경하지 않고 정렬된 새 리스트 얻기\n",
        "원본 = [3, 1, 4, 1, 5]\n",
        "정렬된 = sorted(원본)\n",
        "print(\"정렬된 리스트:\", 정렬된)   # [1, 1, 3, 4, 5]\n",
        "print(\"원본 리스트:\", 원본)     # [3, 1, 4, 1, 5] (변경되지 않음)\n",
        "\n",
        "# 리스트 뒤집기\n",
        "숫자.reverse()\n",
        "print(\"리스트 뒤집기:\", 숫자)  # [1, 1, 2, 3, 4, 5, 6, 9]\n",
        "\n",
        "# 특정 값의 개수 세기\n",
        "일의_개수 = 숫자.count(1)\n",
        "print(\"1의 개수:\", 일의_개수)  # 2\n",
        "\n",
        "# 특정 값의 첫 번째 위치 찾기\n",
        "인덱스 = 숫자.index(4)\n",
        "print(\"4의 인덱스:\", 인덱스)  # 4가 있는 인덱스"
      ],
      "metadata": {
        "colab": {
          "base_uri": "https://localhost:8080/"
        },
        "id": "ZW-43WIJuFhZ",
        "outputId": "26161a53-2687-4a33-dbfe-010c3fea7859"
      },
      "execution_count": 14,
      "outputs": [
        {
          "output_type": "stream",
          "name": "stdout",
          "text": [
            "오름차순 정렬: [1, 1, 2, 3, 4, 5, 6, 9]\n",
            "내림차순 정렬: [9, 6, 5, 4, 3, 2, 1, 1]\n",
            "정렬된 리스트: [1, 1, 3, 4, 5]\n",
            "원본 리스트: [3, 1, 4, 1, 5]\n",
            "리스트 뒤집기: [1, 1, 2, 3, 4, 5, 6, 9]\n",
            "1의 개수: 2\n",
            "4의 인덱스: 4\n"
          ]
        }
      ]
    },
    {
      "cell_type": "markdown",
      "source": [
        "# 리스트 활용 예제"
      ],
      "metadata": {
        "id": "2ntzQwVFuYPL"
      }
    },
    {
      "cell_type": "markdown",
      "source": [
        "**예제 1. 학생 성적 평균 계산하기**"
      ],
      "metadata": {
        "id": "TlWI3rNqudi6"
      }
    },
    {
      "cell_type": "code",
      "source": [
        "성적 = [85,92,78, 90,87]\n",
        "평균 = sum(성적)/len(성적)\n",
        "\n",
        "평균"
      ],
      "metadata": {
        "colab": {
          "base_uri": "https://localhost:8080/"
        },
        "id": "yN9wGgtyt3GU",
        "outputId": "df612c21-49a3-45ef-e17a-ac700ca855b8"
      },
      "execution_count": 15,
      "outputs": [
        {
          "output_type": "execute_result",
          "data": {
            "text/plain": [
              "86.4"
            ]
          },
          "metadata": {},
          "execution_count": 15
        }
      ]
    },
    {
      "cell_type": "code",
      "source": [
        "# #제어문을 활용해서 총합과 평균을 구하세요\n",
        "성적 = [85, 92, 78, 90, 87]\n",
        "\n",
        "총합 = 0\n",
        "항목수 = 0\n",
        "\n",
        "for 점수 in 성적:\n",
        "    총합 += 점수\n",
        "    항목수 += 1\n",
        "\n",
        "평균 = 총합 / 항목수\n",
        "\n",
        "print(\"총합:\", 총합)\n",
        "print(\"평균:\", 평균)"
      ],
      "metadata": {
        "colab": {
          "base_uri": "https://localhost:8080/"
        },
        "id": "2xAZeosGuyve",
        "outputId": "37b6b693-bc77-42eb-de2a-10cc846f8bde"
      },
      "execution_count": 17,
      "outputs": [
        {
          "output_type": "stream",
          "name": "stdout",
          "text": [
            "총합: 432\n",
            "평균: 86.4\n"
          ]
        }
      ]
    },
    {
      "cell_type": "markdown",
      "source": [
        "**예제 2. 합격자 명단 만들기**"
      ],
      "metadata": {
        "id": "s24r0cx2uirF"
      }
    },
    {
      "cell_type": "code",
      "source": [
        "학생들 = [(\"철수\", 85), (\"영희\", 92), (\"민수\", 65), (\"지영\", 78)]\n",
        "합격자 = []\n",
        "\n",
        "for 학생, 점수 in 학생들:\n",
        "    if 점수 >= 70:\n",
        "        합격자.append(학생)\n",
        "\n",
        "print(\"합격자:\", 합격자)  # ['철수', '영희', '지영']"
      ],
      "metadata": {
        "colab": {
          "base_uri": "https://localhost:8080/"
        },
        "id": "WIi6GXiguyW4",
        "outputId": "5664da21-b260-4e7b-b0f7-0e6c86714254"
      },
      "execution_count": 18,
      "outputs": [
        {
          "output_type": "stream",
          "name": "stdout",
          "text": [
            "합격자: ['철수', '영희', '지영']\n"
          ]
        }
      ]
    },
    {
      "cell_type": "markdown",
      "source": [
        "**예제 3. 중복 제거하기**"
      ],
      "metadata": {
        "id": "sqXzlXd-uqyB"
      }
    },
    {
      "cell_type": "code",
      "source": [
        "숫자들 = [1, 2, 2, 3, 4, 4, 5, 5, 5]\n",
        "\n",
        "# set()을 이용해 중복 제거하고 다시 리스트로 변환\n",
        "중복제거 = list(set(숫자들))\n",
        "\n",
        "print(\"중복 제거 결과:\", 중복제거)  # [1, 2, 3, 4, 5]"
      ],
      "metadata": {
        "colab": {
          "base_uri": "https://localhost:8080/"
        },
        "id": "lLtlKWI0umoz",
        "outputId": "e9289536-b33f-42fa-9b8a-f0bfbcf412a0"
      },
      "execution_count": 19,
      "outputs": [
        {
          "output_type": "stream",
          "name": "stdout",
          "text": [
            "중복 제거 결과: [1, 2, 3, 4, 5]\n"
          ]
        }
      ]
    }
  ]
}